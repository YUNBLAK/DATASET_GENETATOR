{
 "cells": [
  {
   "cell_type": "code",
   "execution_count": 9,
   "id": "4a7c3d55",
   "metadata": {},
   "outputs": [
    {
     "name": "stdout",
     "output_type": "stream",
     "text": [
      "DONE\n"
     ]
    }
   ],
   "source": [
    "import pandas as pd\n",
    "import matplotlib.pyplot as plt\n",
    "\n",
    "df = pd.read_csv(\"BIGDATA2.csv\")\n",
    "\n",
    "arr1 = []\n",
    "arr2 = []\n",
    "\n",
    "for i in range(0, len(df)):\n",
    "    if (i + 1) % 30 == 0:\n",
    "        arr1.append(df[\"X\"][i])\n",
    "        arr2.append(df[\"Y\"][i])\n",
    "    \n",
    "dict = {\n",
    "    \"X\" : arr1,\n",
    "    \"Y\" : arr2\n",
    "}\n",
    "\n",
    "newdf = pd.DataFrame(dict)\n",
    "newdf.to_csv(\"BIGDATA9.csv\", index = False)\n",
    "print(\"DONE\")"
   ]
  },
  {
   "cell_type": "code",
   "execution_count": null,
   "id": "7a6034da",
   "metadata": {},
   "outputs": [],
   "source": []
  }
 ],
 "metadata": {
  "kernelspec": {
   "display_name": "Python 3 (ipykernel)",
   "language": "python",
   "name": "python3"
  },
  "language_info": {
   "codemirror_mode": {
    "name": "ipython",
    "version": 3
   },
   "file_extension": ".py",
   "mimetype": "text/x-python",
   "name": "python",
   "nbconvert_exporter": "python",
   "pygments_lexer": "ipython3",
   "version": "3.9.10"
  }
 },
 "nbformat": 4,
 "nbformat_minor": 5
}
